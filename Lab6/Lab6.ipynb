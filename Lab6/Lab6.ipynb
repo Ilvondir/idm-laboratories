{
 "cells": [
  {
   "cell_type": "code",
   "execution_count": null,
   "id": "initial_id",
   "metadata": {
    "collapsed": true
   },
   "outputs": [],
   "source": [
    "import re\n",
    "import string\n",
    "import nltk\n",
    "import pandas as pd\n",
    "from nltk.sentiment.vader import SentimentIntensityAnalyzer\n",
    "import plotly.express as px\n",
    "import plotly.graph_objects as go\n",
    "from wordcloud import WordCloud\n",
    "\n",
    "pd.set_option('display.max_columns', None)"
   ]
  },
  {
   "cell_type": "code",
   "execution_count": null,
   "outputs": [],
   "source": [
    "data = pd.read_csv(\"file.csv\")\n",
    "data = data.drop(data.columns.delete([3, 10]), axis=1)\n",
    "data[\"date\"] = pd.to_datetime(data[\"date\"])\n",
    "\n",
    "print(f\"Data shape: {data.shape}\")"
   ],
   "metadata": {
    "collapsed": false
   },
   "id": "6919f3c5892f89c2"
  },
  {
   "cell_type": "code",
   "execution_count": null,
   "outputs": [],
   "source": [
    "stopwords = nltk.corpus.stopwords.words(\"english\")\n",
    "def clean_text(text):\n",
    "    text = \"\".join(c for c in text if c not in string.punctuation)\n",
    "    tokens = re.split(r\"\\W\", text)\n",
    "    text = \"\".join([word + \" \" for word in tokens if word not in stopwords and \"http\" not in word])\n",
    "    return text\n",
    "\n",
    "data[\"tweet\"] = data[\"tweet\"].apply(lambda t: clean_text(str(t)))"
   ],
   "metadata": {
    "collapsed": false
   },
   "id": "4acdddf4797b7fa7"
  },
  {
   "cell_type": "code",
   "execution_count": null,
   "outputs": [],
   "source": [
    "analyzer = SentimentIntensityAnalyzer()\n",
    "def sentiment(text):\n",
    "    res = analyzer.polarity_scores(text)\n",
    "    if res[\"compound\"] > 0:\n",
    "        return \"pos\"\n",
    "    else:\n",
    "        return \"neg\"\n",
    "\n",
    "data[\"sentiment\"] = data[\"tweet\"].apply(lambda text: sentiment(text))\n",
    "\n",
    "\n",
    "print(f\"Negative tweets: {data['sentiment'].str.contains('neg').sum()}\")\n",
    "print(f\"Positive tweets: {data['sentiment'].str.contains('pos').sum()}\")"
   ],
   "metadata": {
    "collapsed": false
   },
   "id": "7cf4d5a00592591e"
  },
  {
   "cell_type": "code",
   "execution_count": null,
   "outputs": [],
   "source": [
    "tweets_text = ' '.join(data[\"tweet\"])\n",
    "wordcloud = WordCloud(width=700, height=350, background_color ='white').generate(tweets_text)\n",
    "\n",
    "fig = px.imshow(wordcloud)\n",
    "fig.update_layout(xaxis=dict(showgrid=False, showticklabels=False, zeroline=False),\n",
    "                  yaxis=dict(showgrid=False, showticklabels=False, zeroline=False))\n",
    "fig.show()"
   ],
   "metadata": {
    "collapsed": false
   },
   "id": "1cdabf82960a9895"
  },
  {
   "cell_type": "code",
   "execution_count": null,
   "outputs": [],
   "source": [
    "data['year_month'] = data['date'].dt.to_period('M')\n",
    "\n",
    "aggregated_data = pd.DataFrame(data.groupby(['year_month', 'sentiment']).size().unstack(fill_value=0))\n",
    "\n",
    "fig = go.Figure()\n",
    "fig.add_trace(go.Bar(x=[str(v) for v in aggregated_data.index], y=aggregated_data[\"neg\"], name=\"Negative\", marker=dict(color='red')))\n",
    "fig.add_trace(go.Bar(x=[str(v) for v in aggregated_data.index], y=aggregated_data[\"pos\"], name=\"Positive\", marker=dict(color='green')))\n",
    "fig.show()"
   ],
   "metadata": {
    "collapsed": false
   },
   "id": "e8cecb37ace96dea"
  },
  {
   "cell_type": "code",
   "execution_count": null,
   "outputs": [],
   "source": [
    "normalized_data = aggregated_data.div(aggregated_data.sum(axis=1), axis=0)\n",
    "\n",
    "fig = go.Figure()\n",
    "fig.add_trace(go.Scatter(x=[str(v) for v in normalized_data.index], y=normalized_data[\"neg\"], name=\"Negative\", marker=dict(color='red')))\n",
    "fig.add_trace(go.Scatter(x=[str(v) for v in normalized_data.index], y=normalized_data[\"pos\"], name=\"Positive\", marker=dict(color='green')))\n",
    "fig.update_layout(yaxis=dict(range=[0, 1]))\n",
    "fig.show()"
   ],
   "metadata": {
    "collapsed": false
   },
   "id": "e18e63be9fd46dd5"
  }
 ],
 "metadata": {
  "kernelspec": {
   "display_name": "Python 3",
   "language": "python",
   "name": "python3"
  },
  "language_info": {
   "codemirror_mode": {
    "name": "ipython",
    "version": 2
   },
   "file_extension": ".py",
   "mimetype": "text/x-python",
   "name": "python",
   "nbconvert_exporter": "python",
   "pygments_lexer": "ipython2",
   "version": "2.7.6"
  }
 },
 "nbformat": 4,
 "nbformat_minor": 5
}
